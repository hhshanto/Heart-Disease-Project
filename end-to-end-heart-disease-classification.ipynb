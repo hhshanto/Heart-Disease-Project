{
 "cells": [
  {
   "cell_type": "markdown",
   "id": "5cd3a042",
   "metadata": {},
   "source": [
    "# Predicting heart disease using machine learning\n",
    "\n",
    "This notebook looks into various python based ML and data science librariues in an attempt to build machine learning model capable of predicting whether or not someone has heart disease based on their medical attributes.\n",
    "\n",
    "We are going to take the following steps:\n",
    "1. Problem definition \n",
    "2. Data\n",
    "3. Evaluation\n",
    "4. Features\n",
    "5. Modelling\n",
    "6. Experimentation"
   ]
  },
  {
   "cell_type": "markdown",
   "id": "4eee0c88",
   "metadata": {},
   "source": [
    "## 1. Problem Definition"
   ]
  },
  {
   "cell_type": "markdown",
   "id": "711eecab",
   "metadata": {},
   "source": [
    "In a statement,\n",
    "> Given clinical parameters about a patient, we can predict whether or not they\n",
    "have heart disease"
   ]
  },
  {
   "cell_type": "markdown",
   "id": "354feb69",
   "metadata": {},
   "source": [
    "## 2. Data\n",
    "\n",
    "The original data came from the Cleavland database from the UCI ML repository\n",
    ": https://archive.ics.uci.edu/ml/datasets/heart+disease\n",
    "\n",
    "Also in Kaggle: https://www.kaggle.com/ronitf/heart-disease-uci"
   ]
  },
  {
   "cell_type": "markdown",
   "id": "5ccfcbd7",
   "metadata": {},
   "source": [
    "## 3. Evaluation\n",
    "\n",
    "> If we can reach 95% accuracy at predicting whether or not a patient has heart disease during the proof of concept, we will pursue the project,"
   ]
  },
  {
   "cell_type": "markdown",
   "id": "00e15919",
   "metadata": {},
   "source": [
    "## 4. Features\n",
    "\n",
    "**Create data dictionary**"
   ]
  },
  {
   "cell_type": "markdown",
   "id": "4f6623ae",
   "metadata": {},
   "source": [
    "age\n",
    "age in years\n",
    "\n",
    "sex\n",
    "(1 = male; 0 = female)\n",
    "\n",
    "cp\n",
    "chest pain type\n",
    "\n",
    "trestbps\n",
    "resting blood pressure (in mm Hg on admission to the hospital)\n",
    "\n",
    "chol\n",
    "serum cholestoral in mg/dl\n",
    "\n",
    "fbs\n",
    "(fasting blood sugar &gt; 120 mg/dl) (1 = true; 0 = false)\n",
    "\n",
    "restecg\n",
    "resting electrocardiographic results\n",
    "\n",
    "thalach\n",
    "maximum heart rate achieved\n",
    "\n",
    "exang\n",
    "exercise induced angina (1 = yes; 0 = no)\n",
    "\n",
    "oldpeak\n",
    "ST depression induced by exercise relative to rest"
   ]
  },
  {
   "cell_type": "markdown",
   "id": "b7f46033",
   "metadata": {},
   "source": [
    "## Preparing the tools\n",
    "\n",
    "we are going to use Pandas, Matplotlib and Numpy for data analysis and manipulation"
   ]
  },
  {
   "cell_type": "code",
   "execution_count": 9,
   "id": "5867a3d7",
   "metadata": {},
   "outputs": [],
   "source": [
    "# Import all the tools we needed.\n",
    "\n",
    "# Regular EDA(Exploratory Data Analysis) and plotting libraries\n",
    "import numpy as np\n",
    "import pandas as pd\n",
    "import matplotlib.pyplot as plt\n",
    "import seaborn as sns\n",
    "\n",
    "# We want our plot to appear inside the notebook\n",
    "%matplotlib inline \n",
    "\n",
    "# Model from scikit-learn\n",
    "from sklearn.linear_model import LogisticRegression\n",
    "from sklearn.neighbors import KNeighborsClassifier\n",
    "from sklearn.ensemble import RandomForestClassifier\n",
    "\n",
    "#Model Evaluation\n",
    "from sklearn.model_selection import train_test_split, cross_val_score\n",
    "from sklearn.model_selection import RandomizedSearchCV, GridSearchCV\n",
    "from sklearn.metrics import confusion_matrix, classification_report\n",
    "from sklearn.metrics import precision_score, recall_score, f1_score\n",
    "from sklearn.metrics import plot_roc_curve"
   ]
  },
  {
   "cell_type": "code",
   "execution_count": null,
   "id": "615a2ec1",
   "metadata": {},
   "outputs": [],
   "source": []
  }
 ],
 "metadata": {
  "kernelspec": {
   "display_name": "Python 3",
   "language": "python",
   "name": "python3"
  },
  "language_info": {
   "codemirror_mode": {
    "name": "ipython",
    "version": 3
   },
   "file_extension": ".py",
   "mimetype": "text/x-python",
   "name": "python",
   "nbconvert_exporter": "python",
   "pygments_lexer": "ipython3",
   "version": "3.8.10"
  }
 },
 "nbformat": 4,
 "nbformat_minor": 5
}
