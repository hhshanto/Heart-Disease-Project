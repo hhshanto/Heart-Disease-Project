{
 "cells": [
  {
   "cell_type": "markdown",
   "id": "733c978b",
   "metadata": {},
   "source": [
    "# Predicting heart disease using machine learning\n",
    "\n",
    "This notebook looks into various python based ML and data science librariues in an attempt to build machine learning model capable of predicting whether or not someone has heart disease based on their medical attributes.\n",
    "\n",
    "We are going to take the following steps:\n",
    "1. Problem definition \n",
    "2. Data\n",
    "3. Evaluation\n",
    "4. Features\n",
    "5. Modelling\n",
    "6. Experimentation"
   ]
  },
  {
   "cell_type": "markdown",
   "id": "f79ed5ea",
   "metadata": {},
   "source": [
    "## 1. Problem Definition"
   ]
  },
  {
   "cell_type": "markdown",
   "id": "4a2026e5",
   "metadata": {},
   "source": [
    "In a statement,\n",
    "> Given clinical parameters about a patient, we can predict whether or not they\n",
    "have heart disease"
   ]
  },
  {
   "cell_type": "markdown",
   "id": "1504f0c8",
   "metadata": {},
   "source": [
    "## 2. Data\n",
    "\n",
    "The original data came from the Cleavland database from the UCI ML repository\n",
    ": https://archive.ics.uci.edu/ml/datasets/heart+disease\n",
    "\n",
    "Also in Kaggle: https://www.kaggle.com/ronitf/heart-disease-uci"
   ]
  },
  {
   "cell_type": "markdown",
   "id": "c7d9c36f",
   "metadata": {},
   "source": [
    "## 3. Evaluation\n",
    "\n",
    "> If we can reach 95% accuracy at predicting whether or not a patient has heart disease during the proof of concept, we will pursue the project,"
   ]
  },
  {
   "cell_type": "markdown",
   "id": "59c63767",
   "metadata": {},
   "source": [
    "## 4. Features\n",
    "\n",
    "**Create data dictionary**"
   ]
  },
  {
   "cell_type": "markdown",
   "id": "edabd7de",
   "metadata": {},
   "source": [
    "age\n",
    "age in years\n",
    "\n",
    "sex\n",
    "(1 = male; 0 = female)\n",
    "\n",
    "cp\n",
    "chest pain type\n",
    "\n",
    "trestbps\n",
    "resting blood pressure (in mm Hg on admission to the hospital)\n",
    "\n",
    "chol\n",
    "serum cholestoral in mg/dl\n",
    "\n",
    "fbs\n",
    "(fasting blood sugar &gt; 120 mg/dl) (1 = true; 0 = false)\n",
    "\n",
    "restecg\n",
    "resting electrocardiographic results\n",
    "\n",
    "thalach\n",
    "maximum heart rate achieved\n",
    "\n",
    "exang\n",
    "exercise induced angina (1 = yes; 0 = no)\n",
    "\n",
    "oldpeak\n",
    "ST depression induced by exercise relative to rest"
   ]
  },
  {
   "cell_type": "code",
   "execution_count": null,
   "id": "0b9485ab",
   "metadata": {},
   "outputs": [],
   "source": []
  }
 ],
 "metadata": {
  "kernelspec": {
   "display_name": "Python 3",
   "language": "python",
   "name": "python3"
  },
  "language_info": {
   "codemirror_mode": {
    "name": "ipython",
    "version": 3
   },
   "file_extension": ".py",
   "mimetype": "text/x-python",
   "name": "python",
   "nbconvert_exporter": "python",
   "pygments_lexer": "ipython3",
   "version": "3.8.10"
  }
 },
 "nbformat": 4,
 "nbformat_minor": 5
}
